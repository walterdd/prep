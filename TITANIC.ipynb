{
 "cells": [
  {
   "cell_type": "code",
   "execution_count": 16,
   "metadata": {
    "collapsed": false
   },
   "outputs": [
    {
     "name": "stdout",
     "output_type": "stream",
     "text": [
      "577 314\n"
     ]
    }
   ],
   "source": [
    "import pandas as pd\n",
    "titanic = pd.read_csv('./titanic.csv')\n",
    "males = titanic['Sex'][titanic['Sex'] == 'male'].count()\n",
    "females = titanic['Sex'][titanic['Sex'] == 'female'].count()\n",
    "print males, females"
   ]
  },
  {
   "cell_type": "code",
   "execution_count": 22,
   "metadata": {
    "collapsed": false
   },
   "outputs": [
    {
     "data": {
      "text/plain": [
       "(891, 12)"
      ]
     },
     "execution_count": 22,
     "metadata": {},
     "output_type": "execute_result"
    }
   ],
   "source": [
    "titanic.shape"
   ]
  },
  {
   "cell_type": "code",
   "execution_count": 36,
   "metadata": {
    "collapsed": false
   },
   "outputs": [
    {
     "name": "stdout",
     "output_type": "stream",
     "text": [
      "0.38\n"
     ]
    }
   ],
   "source": [
    "survival_rate = float(titanic['Survived'][titanic['Survived'] == 1].count()) / (titanic.shape[0])\n",
    "print round(survival_rate, 2)"
   ]
  },
  {
   "cell_type": "code",
   "execution_count": 47,
   "metadata": {
    "collapsed": false
   },
   "outputs": [
    {
     "name": "stdout",
     "output_type": "stream",
     "text": [
      "0.24\n"
     ]
    }
   ],
   "source": [
    "class1_rate = float(titanic['Pclass'][titanic['Pclass'] == 1].count()) / titanic.shape[0]\n",
    "print round(class1_rate, 2)"
   ]
  },
  {
   "cell_type": "code",
   "execution_count": 53,
   "metadata": {
    "collapsed": false
   },
   "outputs": [
    {
     "name": "stdout",
     "output_type": "stream",
     "text": [
      "29.6991176471 28.0\n"
     ]
    }
   ],
   "source": [
    "mean = titanic['Age'].mean()\n",
    "median = titanic['Age'].median()\n",
    "print mean, median"
   ]
  },
  {
   "cell_type": "code",
   "execution_count": 54,
   "metadata": {
    "collapsed": false
   },
   "outputs": [
    {
     "name": "stdout",
     "output_type": "stream",
     "text": [
      "0.41483769862\n"
     ]
    }
   ],
   "source": [
    "print titanic['SibSp'].corr(titanic['Parch'])"
   ]
  },
  {
   "cell_type": "code",
   "execution_count": 133,
   "metadata": {
    "collapsed": false
   },
   "outputs": [
    {
     "name": "stdout",
     "output_type": "stream",
     "text": [
      "Mary\n"
     ]
    }
   ],
   "source": [
    "import re\n",
    "def parse(x):\n",
    "    x = x.translate(None, '.,\"()')\n",
    "#     x = x.replace(\"Miss \", \"\")\n",
    "#     x = x.replace(\"Mrs \", \"\")\n",
    "    match = re.search(\"Miss|Mrs\", x)\n",
    "    if match:\n",
    "        ind = match.end()\n",
    "        x = x[ind:]\n",
    "    x = x.split()\n",
    "    return x\n",
    "names_dict = {}\n",
    "names = titanic['Name'][titanic['Sex'] == 'female'].apply(parse)\n",
    "names_iter = names.iteritems()\n",
    "for row in names_iter:\n",
    "    for name in row[1]:\n",
    "        if name in names_dict:\n",
    "            names_dict[name] += 1\n",
    "        else:\n",
    "            names_dict[name] = 1\n",
    "max_val = max(names_dict.values())\n",
    "print [k for k, v in names_dict.iteritems() if v == max_val][0]\n",
    "# print [('false', k) for k, v in names_dict.iteritems() if not k.isalnum()]\n",
    "    "
   ]
  }
 ],
 "metadata": {
  "kernelspec": {
   "display_name": "Python 2",
   "language": "python",
   "name": "python2"
  },
  "language_info": {
   "codemirror_mode": {
    "name": "ipython",
    "version": 2
   },
   "file_extension": ".py",
   "mimetype": "text/x-python",
   "name": "python",
   "nbconvert_exporter": "python",
   "pygments_lexer": "ipython2",
   "version": "2.7.11"
  }
 },
 "nbformat": 4,
 "nbformat_minor": 0
}
